{
 "cells": [
  {
   "cell_type": "code",
   "execution_count": null,
   "id": "94f5ffc0-ab9c-41d3-84bb-f8e4125e05d1",
   "metadata": {},
   "outputs": [],
   "source": []
  }
 ],
 "metadata": {
  "kernelspec": {
   "display_name": "",
   "name": ""
  },
  "language_info": {
   "name": ""
  }
 },
 "nbformat": 4,
 "nbformat_minor": 5
}
