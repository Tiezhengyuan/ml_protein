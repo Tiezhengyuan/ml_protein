{
 "cells": [
  {
   "cell_type": "markdown",
   "id": "09ee689c-457a-4b1e-a4a0-6f07828ab0b6",
   "metadata": {},
   "source": [
    "# Datasets of protein-ligand"
   ]
  },
  {
   "cell_type": "raw",
   "id": "11f66be6-85fb-4094-9bfa-5ccfb041bbab",
   "metadata": {},
   "source": [
    "build env of openfold (https://openfold.readthedocs.io/en/latest/Installation.html)\n",
    "1. git clone https://github.com/aqlaboratory/openfold.git ; cd openfold\n",
    "2. conda env create -f environment.yml ; conda activate openfold-env\n",
    "3. bash scripts/install_third_party_dependencies.sh"
   ]
  },
  {
   "cell_type": "code",
   "execution_count": 3,
   "id": "ce4f2fc1-a237-4b07-814e-f2b668bae086",
   "metadata": {},
   "outputs": [
    {
     "name": "stdout",
     "output_type": "stream",
     "text": [
      "['/home/yuan/anaconda3/envs/openfold-env/lib/python310.zip', '/home/yuan/anaconda3/envs/openfold-env/lib/python3.10', '/home/yuan/anaconda3/envs/openfold-env/lib/python3.10/lib-dynload', '', '/home/yuan/anaconda3/envs/openfold-env/lib/python3.10/site-packages', '/home/yuan/anaconda3/envs/openfold-env/lib/python3.10/site-packages/openfold-2.2.0-py3.10-linux-x86_64.egg', '/home/yuan/bio/protein_design/protein-ligand/SFT_protein_ligand_complex/src']\n"
     ]
    }
   ],
   "source": [
    "import os\n",
    "import sys\n",
    "import numpy as np\n",
    "import pandas as pd\n",
    "import matplotlib.pyplot as plt\n",
    "\n",
    "pdb_dir = '/home/yuan/data/pdb/rsync'\n",
    "data_dir = './data'\n",
    "outputs_dir = './outputs'\n",
    "model_dir = './model'\n",
    "\n",
    "src_dir = os.path.join(os.getcwd(), 'src')\n",
    "if src_dir not in sys.path:\n",
    "    sys.path.append(src_dir)\n",
    "print(sys.path)\n",
    "\n",
    "%load_ext autoreload\n",
    "%autoreload 2"
   ]
  },
  {
   "cell_type": "code",
   "execution_count": 3,
   "id": "d346b2de-d34f-4627-912f-c48bc9a43999",
   "metadata": {},
   "outputs": [
    {
     "data": {
      "text/plain": [
       "<module 'openfold' from '/home/yuan/anaconda3/envs/openfold-env/lib/python3.10/site-packages/openfold-2.2.0-py3.10-linux-x86_64.egg/openfold/__init__.py'>"
      ]
     },
     "execution_count": 3,
     "metadata": {},
     "output_type": "execute_result"
    }
   ],
   "source": [
    "import openfold\n",
    "openfold"
   ]
  },
  {
   "cell_type": "markdown",
   "id": "22636a1d-0730-443f-825d-ced4b5161c7a",
   "metadata": {},
   "source": [
    "## 1 view default datasets"
   ]
  },
  {
   "cell_type": "code",
   "execution_count": 13,
   "id": "ce10e621-a596-44a6-a288-53e7bacab622",
   "metadata": {},
   "outputs": [
    {
     "name": "stdout",
     "output_type": "stream",
     "text": [
      "number of train: (34277, 8)\n",
      "number of test: (3646, 8)\n"
     ]
    }
   ],
   "source": [
    "# load datasets\n",
    "train0 = pd.read_pickle('data0/pdb_train.p')\n",
    "print('number of train:', train.shape)\n",
    "test0 = pd.read_pickle('data0/pdb_test.p')\n",
    "print('number of test:', test.shape)"
   ]
  },
  {
   "cell_type": "code",
   "execution_count": 14,
   "id": "e61c45f2-b27c-4a5f-b0ef-aea33066631a",
   "metadata": {},
   "outputs": [
    {
     "data": {
      "text/html": [
       "<div>\n",
       "<style scoped>\n",
       "    .dataframe tbody tr th:only-of-type {\n",
       "        vertical-align: middle;\n",
       "    }\n",
       "\n",
       "    .dataframe tbody tr th {\n",
       "        vertical-align: top;\n",
       "    }\n",
       "\n",
       "    .dataframe thead th {\n",
       "        text-align: right;\n",
       "    }\n",
       "</style>\n",
       "<table border=\"1\" class=\"dataframe\">\n",
       "  <thead>\n",
       "    <tr style=\"text-align: right;\">\n",
       "      <th></th>\n",
       "      <th>pdb_id</th>\n",
       "      <th>lig_id</th>\n",
       "      <th>seq</th>\n",
       "      <th>smiles</th>\n",
       "      <th>receptor_features</th>\n",
       "      <th>ligand_xyz</th>\n",
       "      <th>ligand_xyz_2d</th>\n",
       "      <th>ligand_bonds</th>\n",
       "    </tr>\n",
       "  </thead>\n",
       "  <tbody>\n",
       "  </tbody>\n",
       "</table>\n",
       "</div>"
      ],
      "text/plain": [
       "Empty DataFrame\n",
       "Columns: [pdb_id, lig_id, seq, smiles, receptor_features, ligand_xyz, ligand_xyz_2d, ligand_bonds]\n",
       "Index: []"
      ]
     },
     "execution_count": 14,
     "metadata": {},
     "output_type": "execute_result"
    }
   ],
   "source": [
    "pdb_id = '8iax'\n",
    "train0[train0['pdb_id']==pdb_id]\n",
    "test0[test0['pdb_id']==pdb_id]"
   ]
  },
  {
   "cell_type": "code",
   "execution_count": 15,
   "id": "05347dbd-180a-4602-ac5d-e11715ec6d16",
   "metadata": {},
   "outputs": [
    {
     "data": {
      "text/html": [
       "<div>\n",
       "<style scoped>\n",
       "    .dataframe tbody tr th:only-of-type {\n",
       "        vertical-align: middle;\n",
       "    }\n",
       "\n",
       "    .dataframe tbody tr th {\n",
       "        vertical-align: top;\n",
       "    }\n",
       "\n",
       "    .dataframe thead th {\n",
       "        text-align: right;\n",
       "    }\n",
       "</style>\n",
       "<table border=\"1\" class=\"dataframe\">\n",
       "  <thead>\n",
       "    <tr style=\"text-align: right;\">\n",
       "      <th></th>\n",
       "      <th>0</th>\n",
       "      <th>1</th>\n",
       "    </tr>\n",
       "  </thead>\n",
       "  <tbody>\n",
       "    <tr>\n",
       "      <th>pdb_id</th>\n",
       "      <td>7k38</td>\n",
       "      <td>6prt</td>\n",
       "    </tr>\n",
       "    <tr>\n",
       "      <th>lig_id</th>\n",
       "      <td>VTY</td>\n",
       "      <td>OWA</td>\n",
       "    </tr>\n",
       "    <tr>\n",
       "      <th>seq</th>\n",
       "      <td>MGIVEEAHNVKVLGTGSRFIVLAHGFGTDQSVWKHLVPHLLEEFRV...</td>\n",
       "      <td>SNPPPPETSNPNKPKRQTNQLQYLLRVVLKTLWKHQFAWPFQQPVD...</td>\n",
       "    </tr>\n",
       "    <tr>\n",
       "      <th>smiles</th>\n",
       "      <td>CC1=C[C@@H](O)OC1=O</td>\n",
       "      <td>COC(=O)C[C@H]1CC(=O)N(C)C1</td>\n",
       "    </tr>\n",
       "    <tr>\n",
       "      <th>receptor_features</th>\n",
       "      <td>{'rigidgroups_gt_frames': [[[[-0.5312262   0.2...</td>\n",
       "      <td>{'rigidgroups_gt_frames': [[[[-1.0563381e-01 -...</td>\n",
       "    </tr>\n",
       "    <tr>\n",
       "      <th>ligand_xyz</th>\n",
       "      <td>[(22.289, 11.985, 9.225), (21.426, 11.623, 7.9...</td>\n",
       "      <td>[(-8.337, 7.189, -0.997), (-9.645, 6.452, -1.2...</td>\n",
       "    </tr>\n",
       "    <tr>\n",
       "      <th>ligand_xyz_2d</th>\n",
       "      <td>[(-2.031355975502858, -1.6316778784387098, 0.0...</td>\n",
       "      <td>[(4.883261310160714, -0.37850716807626705, 0.0...</td>\n",
       "    </tr>\n",
       "    <tr>\n",
       "      <th>ligand_bonds</th>\n",
       "      <td>[(0, 1), (1, 4), (4, 5), (5, 10), (10, 9), (9,...</td>\n",
       "      <td>[(11, 18), (18, 20), (20, 8), (8, 7), (7, 2), ...</td>\n",
       "    </tr>\n",
       "  </tbody>\n",
       "</table>\n",
       "</div>"
      ],
      "text/plain": [
       "                                                                   0  \\\n",
       "pdb_id                                                          7k38   \n",
       "lig_id                                                           VTY   \n",
       "seq                MGIVEEAHNVKVLGTGSRFIVLAHGFGTDQSVWKHLVPHLLEEFRV...   \n",
       "smiles                                           CC1=C[C@@H](O)OC1=O   \n",
       "receptor_features  {'rigidgroups_gt_frames': [[[[-0.5312262   0.2...   \n",
       "ligand_xyz         [(22.289, 11.985, 9.225), (21.426, 11.623, 7.9...   \n",
       "ligand_xyz_2d      [(-2.031355975502858, -1.6316778784387098, 0.0...   \n",
       "ligand_bonds       [(0, 1), (1, 4), (4, 5), (5, 10), (10, 9), (9,...   \n",
       "\n",
       "                                                                   1  \n",
       "pdb_id                                                          6prt  \n",
       "lig_id                                                           OWA  \n",
       "seq                SNPPPPETSNPNKPKRQTNQLQYLLRVVLKTLWKHQFAWPFQQPVD...  \n",
       "smiles                                    COC(=O)C[C@H]1CC(=O)N(C)C1  \n",
       "receptor_features  {'rigidgroups_gt_frames': [[[[-1.0563381e-01 -...  \n",
       "ligand_xyz         [(-8.337, 7.189, -0.997), (-9.645, 6.452, -1.2...  \n",
       "ligand_xyz_2d      [(4.883261310160714, -0.37850716807626705, 0.0...  \n",
       "ligand_bonds       [(11, 18), (18, 20), (20, 8), (8, 7), (7, 2), ...  "
      ]
     },
     "execution_count": 15,
     "metadata": {},
     "output_type": "execute_result"
    }
   ],
   "source": [
    "test0.head(2).T"
   ]
  },
  {
   "cell_type": "code",
   "execution_count": null,
   "id": "7c024cc9-9cce-4f76-831f-1b11101f8c68",
   "metadata": {},
   "outputs": [],
   "source": []
  },
  {
   "cell_type": "code",
   "execution_count": null,
   "id": "1c8429d7-492c-43eb-a242-d0d22fe3303f",
   "metadata": {},
   "outputs": [],
   "source": []
  },
  {
   "cell_type": "markdown",
   "id": "2af8b5fe-f606-4492-8fce-b68e0cb7469a",
   "metadata": {},
   "source": [
    "## 2. build pdb_protein_ligand_complexes\n",
    "- source: https://huggingface.co/datasets/jglaser/pdb_protein_ligand_complexes"
   ]
  },
  {
   "cell_type": "markdown",
   "id": "39fa5f5c-c115-4578-92b6-98be500001cb",
   "metadata": {},
   "source": [
    "### 2.1 download pdb"
   ]
  },
  {
   "cell_type": "raw",
   "id": "a4ca7e6a-b813-45f5-a4e6-2e41595ad055",
   "metadata": {},
   "source": [
    "# download the PDB archive\n",
    "sh src/rsync.sh ~/data/pdb/rsync 12"
   ]
  },
  {
   "cell_type": "markdown",
   "id": "931951b3-5a36-4eed-9bea-694ade4d6549",
   "metadata": {},
   "source": [
    "### 2.2 create datasets"
   ]
  },
  {
   "cell_type": "raw",
   "id": "53eeed26-796c-40cf-9b4b-78bfa3b72785",
   "metadata": {},
   "source": [
    "# extract sequences and coordinates in parallel\n",
    "# original command: python parse_complexes.py ~/data/pdb/rsync\n",
    "cd ~/bio/protein_design/protein-ligand/SFT_protein_ligand_complex\n",
    "python src/parse_complex.py ./data/pdb_tmp.txt"
   ]
  },
  {
   "cell_type": "code",
   "execution_count": 9,
   "id": "f9f5b2a3-ba9f-492c-a18e-4d4f95c63826",
   "metadata": {},
   "outputs": [
    {
     "name": "stdout",
     "output_type": "stream",
     "text": [
      "total pdb files: 226302\n",
      "203671 22631\n"
     ]
    }
   ],
   "source": [
    "# test class\n",
    "from src.parse_complex import ParseComplex\n",
    "\n",
    "parser = ParseComplex(./data/pdb_tmp.txt)\n",
    "# read ligand table, update self.ligand_expo\n",
    "parser.read_ligand_expo()\n",
    "parser.parse(5)"
   ]
  },
  {
   "cell_type": "code",
   "execution_count": 268,
   "id": "04634463-0e2d-42f4-9fd4-f384fa6f38b2",
   "metadata": {},
   "outputs": [
    {
     "data": {
      "text/html": [
       "<div>\n",
       "<style scoped>\n",
       "    .dataframe tbody tr th:only-of-type {\n",
       "        vertical-align: middle;\n",
       "    }\n",
       "\n",
       "    .dataframe tbody tr th {\n",
       "        vertical-align: top;\n",
       "    }\n",
       "\n",
       "    .dataframe thead th {\n",
       "        text-align: right;\n",
       "    }\n",
       "</style>\n",
       "<table border=\"1\" class=\"dataframe\">\n",
       "  <thead>\n",
       "    <tr style=\"text-align: right;\">\n",
       "      <th></th>\n",
       "      <th>pdb_id</th>\n",
       "      <th>seq</th>\n",
       "      <th>rigidgroups_gt_frames</th>\n",
       "      <th>torsion_angles_sin_cos</th>\n",
       "      <th>lig_id</th>\n",
       "      <th>ligand_mol</th>\n",
       "      <th>smiles</th>\n",
       "      <th>ligand_xyz</th>\n",
       "      <th>ligand_xyz_2d</th>\n",
       "      <th>ligand_bonds</th>\n",
       "      <th>ligand_token_bonds</th>\n",
       "    </tr>\n",
       "  </thead>\n",
       "  <tbody>\n",
       "    <tr>\n",
       "      <th>0</th>\n",
       "      <td>2du5</td>\n",
       "      <td>MKFDPQKYRELAEKDFEAAWKAGKEILAERSPNELYPRVGFSFGKE...</td>\n",
       "      <td>[[[[ 0.50600564  0.7493685  -0.42708912 32.59 ...</td>\n",
       "      <td>[[[2.69004699543195e-07, 0.01068895628178541],...</td>\n",
       "      <td>G</td>\n",
       "      <td>&lt;rdkit.Chem.rdchem.Mol object at 0x7cc563280b80&gt;</td>\n",
       "      <td>Nc1nc2c(ncn2C2OC(COP(=O)(O)O)C(O)C2O)c(=O)[nH]1</td>\n",
       "      <td>[(37.72, 83.446, -47.043), (36.784, 82.768, -4...</td>\n",
       "      <td>[(-3.324996385126629, 3.9786936590777984, 0.0)...</td>\n",
       "      <td>[(0, 1), (1, 2), (2, 3), (3, 4), (4, 5), (5, 6...</td>\n",
       "      <td>[(22, 19), (19, 25), (25, 27), (27, 18), (18, ...</td>\n",
       "    </tr>\n",
       "    <tr>\n",
       "      <th>1</th>\n",
       "      <td>6gky</td>\n",
       "      <td>QTKKAAIVELLKQLELGLVPYDDIKQLIRRELARRLQWGYKPTYEE...</td>\n",
       "      <td>[[[[ 0.9017785   0.42920965  0.05074023 -3.736...</td>\n",
       "      <td>[[[-4.125211895373796e-09, 0.15231621554332198...</td>\n",
       "      <td>F2Z</td>\n",
       "      <td>&lt;rdkit.Chem.rdchem.Mol object at 0x7cc57cb13c90&gt;</td>\n",
       "      <td>COc1cc2c(cc1OC)CC(=O)NC2</td>\n",
       "      <td>[(19.73, 15.845, -16.63), (20.38, 16.083, -17....</td>\n",
       "      <td>[(-3.448021766247051, 2.4497236373694418, 0.0)...</td>\n",
       "      <td>[(0, 1), (1, 2), (2, 3), (3, 4), (4, 5), (5, 6...</td>\n",
       "      <td>[(13, 12), (12, 10), (10, 9), (9, 7), (7, 15),...</td>\n",
       "    </tr>\n",
       "  </tbody>\n",
       "</table>\n",
       "</div>"
      ],
      "text/plain": [
       "  pdb_id                                                seq  \\\n",
       "0   2du5  MKFDPQKYRELAEKDFEAAWKAGKEILAERSPNELYPRVGFSFGKE...   \n",
       "1   6gky  QTKKAAIVELLKQLELGLVPYDDIKQLIRRELARRLQWGYKPTYEE...   \n",
       "\n",
       "                               rigidgroups_gt_frames  \\\n",
       "0  [[[[ 0.50600564  0.7493685  -0.42708912 32.59 ...   \n",
       "1  [[[[ 0.9017785   0.42920965  0.05074023 -3.736...   \n",
       "\n",
       "                              torsion_angles_sin_cos lig_id  \\\n",
       "0  [[[2.69004699543195e-07, 0.01068895628178541],...      G   \n",
       "1  [[[-4.125211895373796e-09, 0.15231621554332198...    F2Z   \n",
       "\n",
       "                                         ligand_mol  \\\n",
       "0  <rdkit.Chem.rdchem.Mol object at 0x7cc563280b80>   \n",
       "1  <rdkit.Chem.rdchem.Mol object at 0x7cc57cb13c90>   \n",
       "\n",
       "                                            smiles  \\\n",
       "0  Nc1nc2c(ncn2C2OC(COP(=O)(O)O)C(O)C2O)c(=O)[nH]1   \n",
       "1                         COc1cc2c(cc1OC)CC(=O)NC2   \n",
       "\n",
       "                                          ligand_xyz  \\\n",
       "0  [(37.72, 83.446, -47.043), (36.784, 82.768, -4...   \n",
       "1  [(19.73, 15.845, -16.63), (20.38, 16.083, -17....   \n",
       "\n",
       "                                       ligand_xyz_2d  \\\n",
       "0  [(-3.324996385126629, 3.9786936590777984, 0.0)...   \n",
       "1  [(-3.448021766247051, 2.4497236373694418, 0.0)...   \n",
       "\n",
       "                                        ligand_bonds  \\\n",
       "0  [(0, 1), (1, 2), (2, 3), (3, 4), (4, 5), (5, 6...   \n",
       "1  [(0, 1), (1, 2), (2, 3), (3, 4), (4, 5), (5, 6...   \n",
       "\n",
       "                                  ligand_token_bonds  \n",
       "0  [(22, 19), (19, 25), (25, 27), (27, 18), (18, ...  \n",
       "1  [(13, 12), (12, 10), (10, 9), (9, 7), (7, 15),...  "
      ]
     },
     "execution_count": 268,
     "metadata": {},
     "output_type": "execute_result"
    }
   ],
   "source": [
    "df = pd.read_pickle('data/pdb_tmp.p')\n",
    "df"
   ]
  },
  {
   "cell_type": "code",
   "execution_count": 43,
   "id": "c25b3e49-41c8-4515-80cd-f7a9a1da6b72",
   "metadata": {},
   "outputs": [
    {
     "name": "stdout",
     "output_type": "stream",
     "text": [
      "parallel -j4 python src/parse_complex.py ::: ./data/pdb_0.txt ./data/pdb_1.txt ./data/pdb_2.txt ./data/pdb_3.txt\n",
      "parallel -j4 python src/parse_complex.py ::: ./data/pdb_4.txt ./data/pdb_5.txt ./data/pdb_6.txt ./data/pdb_7.txt\n",
      "parallel -j4 python src/parse_complex.py ::: ./data/pdb_8.txt ./data/pdb_9.txt ./data/pdb_10.txt ./data/pdb_11.txt\n",
      "parallel -j4 python src/parse_complex.py ::: ./data/pdb_12.txt ./data/pdb_13.txt ./data/pdb_14.txt ./data/pdb_15.txt\n",
      "parallel -j4 python src/parse_complex.py ::: ./data/pdb_16.txt ./data/pdb_17.txt ./data/pdb_18.txt ./data/pdb_19.txt\n",
      "parallel -j3 python src/parse_complex.py ::: ./data/pdb_20.txt ./data/pdb_21.txt ./data/pdb_22.txt\n"
     ]
    }
   ],
   "source": [
    "# create files of pdb file path\n",
    "pool, i, cmd = [], 0, []\n",
    "for root, dirs, names in os.walk(pdb_dir):\n",
    "    for file_name in names:\n",
    "        if file_name.endswith('.gz'):\n",
    "            path = os.path.join(root, file_name)\n",
    "            pool.append(path)\n",
    "    if len(pool)>10_000:\n",
    "        outfile = os.path.join(data_dir, f'pdb_{i}.txt')\n",
    "        cmd.append(outfile)\n",
    "        with open(outfile, 'w') as f:\n",
    "            f.writelines('\\n'.join(pool))\n",
    "        i += 1\n",
    "        pool = []\n",
    "if pool:\n",
    "    outfile = os.path.join(data_dir, f'pdb_{i}.txt')\n",
    "    cmd.append(outfile)\n",
    "    with open(outfile, 'w') as f:\n",
    "        f.writelines('\\n'.join(pool))\n",
    "for i in range(0, len(cmd), 4):\n",
    "    args = ' '.join(cmd[i:i+4])\n",
    "    print(f\"parallel -j{len(cmd[i:i+4])} python src/parse_complex.py ::: {args}\")"
   ]
  },
  {
   "cell_type": "code",
   "execution_count": 48,
   "id": "20a52204-8bbb-4fa1-ac5d-bc0885c5294a",
   "metadata": {},
   "outputs": [
    {
     "name": "stdout",
     "output_type": "stream",
     "text": [
      "(3208, 11)\n",
      "(74594, 11)\n"
     ]
    }
   ],
   "source": [
    "# combine data\n",
    "df = pd.read_pickle('data/pdb_0.p')\n",
    "print(df.shape)\n",
    "for i in range(1, 23):\n",
    "    df1 = pd.read_pickle(f'data/pdb_{i}.p')\n",
    "    df = pd.concat([df,df1], axis=0)\n",
    "print(df.shape)"
   ]
  },
  {
   "cell_type": "code",
   "execution_count": 58,
   "id": "79360ab8-1060-43ad-88f9-3c3cc3979f39",
   "metadata": {
    "scrolled": true
   },
   "outputs": [
    {
     "name": "stdout",
     "output_type": "stream",
     "text": [
      "(74594, 11)\n",
      "(67134, 11) (7460, 11)\n"
     ]
    }
   ],
   "source": [
    "# shuffle\n",
    "df = df.sample(frac=1).reset_index(drop=True)\n",
    "print(df.shape)\n",
    "\n",
    "# split data\n",
    "size = int(len(df)*.9)\n",
    "train = df.iloc[:size,:]\n",
    "test = df.iloc[size:,:]\n",
    "print(train.shape, test.shape)\n",
    "train.to_pickle('data/train.p')\n",
    "test.to_pickle('data/test.p')"
   ]
  },
  {
   "cell_type": "code",
   "execution_count": 55,
   "id": "fd3e328a-80fe-4d4e-9d83-a181078c8555",
   "metadata": {},
   "outputs": [],
   "source": []
  },
  {
   "cell_type": "code",
   "execution_count": null,
   "id": "3118f390-d1de-48b7-8259-e79cbe8935e4",
   "metadata": {},
   "outputs": [],
   "source": []
  },
  {
   "cell_type": "code",
   "execution_count": 145,
   "id": "b443b969-f992-45c8-a2e6-d02129352835",
   "metadata": {},
   "outputs": [
    {
     "data": {
      "text/plain": [
       "<Selection: 'protein' from Unknown (667 atoms; active #0 of 10 coordsets)>"
      ]
     },
     "execution_count": 145,
     "metadata": {},
     "output_type": "execute_result"
    }
   ],
   "source": [
    "from prody import parsePDBStream, writePDBStream\n",
    "import gzip\n",
    "\n",
    "pdb_file = '/home/yuan/data/pdb/rsync/l7/pdb2l77.ent.gz'\n",
    "with gzip.open(pdb_file,'rt') as f:\n",
    "    pdb = parsePDBStream(f)\n",
    "\n",
    "protein = pdb.select('protein')\n",
    "ligand = pdb.select('not protein and not water')\n",
    "protein"
   ]
  },
  {
   "cell_type": "code",
   "execution_count": 146,
   "id": "cb717e2e-038b-4d7d-adda-c80cf8c7ee7e",
   "metadata": {},
   "outputs": [
    {
     "data": {
      "text/plain": [
       "(667, 3)"
      ]
     },
     "execution_count": 146,
     "metadata": {},
     "output_type": "execute_result"
    }
   ],
   "source": [
    "protein.getCoords().shape"
   ]
  },
  {
   "cell_type": "code",
   "execution_count": 147,
   "id": "2704e451-272d-4de0-a59b-5330b3f4d19e",
   "metadata": {},
   "outputs": [
    {
     "name": "stdout",
     "output_type": "stream",
     "text": [
      "10\n"
     ]
    },
    {
     "data": {
      "text/plain": [
       "10"
      ]
     },
     "execution_count": 147,
     "metadata": {},
     "output_type": "execute_result"
    }
   ],
   "source": [
    "from prody import writePDBStream, AtomGroup\n",
    "from Bio.PDB import PDBParser\n",
    "from io import StringIO\n",
    "from prody import parsePDBStream, writePDBStream\n",
    "from copy import deepcopy\n",
    "\n",
    "print(protein.numCoordsets())\n",
    "# Create empty protein\n",
    "# p2 = AtomGroup('empty_protein')  # Name is optional\n",
    "p2 = protein.copy()\n",
    "p2.numCoordsets()\n",
    "_first = deepcopy(protein._getCoordsets()[0])\n",
    "p2.setCoords(_first)\n",
    "p2.numCoordsets()"
   ]
  },
  {
   "cell_type": "code",
   "execution_count": null,
   "id": "96ded32f-023a-4ce9-bd28-ff3c43887917",
   "metadata": {},
   "outputs": [],
   "source": []
  },
  {
   "cell_type": "code",
   "execution_count": null,
   "id": "4648dba3-2e9b-4b73-9534-7d5c86d91ca5",
   "metadata": {},
   "outputs": [],
   "source": []
  },
  {
   "cell_type": "code",
   "execution_count": null,
   "id": "4b7f9510-62e7-4b60-8392-81c0f348d26f",
   "metadata": {},
   "outputs": [],
   "source": []
  },
  {
   "cell_type": "code",
   "execution_count": 152,
   "id": "8eef283c-aa8c-4077-bec4-10f73d137bfc",
   "metadata": {},
   "outputs": [
    {
     "data": {
      "text/html": [
       "<div>\n",
       "<style scoped>\n",
       "    .dataframe tbody tr th:only-of-type {\n",
       "        vertical-align: middle;\n",
       "    }\n",
       "\n",
       "    .dataframe tbody tr th {\n",
       "        vertical-align: top;\n",
       "    }\n",
       "\n",
       "    .dataframe thead th {\n",
       "        text-align: right;\n",
       "    }\n",
       "</style>\n",
       "<table border=\"1\" class=\"dataframe\">\n",
       "  <thead>\n",
       "    <tr style=\"text-align: right;\">\n",
       "      <th></th>\n",
       "      <th>pdb_id</th>\n",
       "      <th>lig_id</th>\n",
       "      <th>seq</th>\n",
       "      <th>smiles</th>\n",
       "      <th>receptor_features</th>\n",
       "      <th>ligand_xyz</th>\n",
       "      <th>ligand_xyz_2d</th>\n",
       "      <th>ligand_bonds</th>\n",
       "    </tr>\n",
       "  </thead>\n",
       "  <tbody>\n",
       "  </tbody>\n",
       "</table>\n",
       "</div>"
      ],
      "text/plain": [
       "Empty DataFrame\n",
       "Columns: [pdb_id, lig_id, seq, smiles, receptor_features, ligand_xyz, ligand_xyz_2d, ligand_bonds]\n",
       "Index: []"
      ]
     },
     "execution_count": 152,
     "metadata": {},
     "output_type": "execute_result"
    }
   ],
   "source": [
    "pdb_id = '8iax'\n",
    "train0[train0['pdb_id']==pdb_id]\n",
    "test0[test0['pdb_id']==pdb_id]"
   ]
  },
  {
   "cell_type": "code",
   "execution_count": null,
   "id": "f2ed37cd-1931-49e8-8927-92877a058f24",
   "metadata": {},
   "outputs": [],
   "source": []
  },
  {
   "cell_type": "markdown",
   "id": "050624e7-8f96-4326-8e3e-c793c2074c20",
   "metadata": {},
   "source": [
    "### 1.2 view datasets"
   ]
  },
  {
   "cell_type": "code",
   "execution_count": 154,
   "id": "4ad6499c-6e10-4055-91f9-233eb7352eca",
   "metadata": {},
   "outputs": [
    {
     "name": "stdout",
     "output_type": "stream",
     "text": [
      "number of train: (30, 8)\n",
      "number of test: (5157, 8)\n"
     ]
    }
   ],
   "source": [
    "# load datasets\n",
    "train = pd.read_pickle('data/pdb_train.p')\n",
    "print('number of train:', train.shape)\n",
    "test = pd.read_pickle('data/pdb_test.p')\n",
    "print('number of test:', test.shape)"
   ]
  },
  {
   "cell_type": "code",
   "execution_count": 253,
   "id": "3b803b85-c6ad-4b90-961c-56489ab57504",
   "metadata": {},
   "outputs": [
    {
     "name": "stdout",
     "output_type": "stream",
     "text": [
      "(5187, 8)\n"
     ]
    },
    {
     "data": {
      "text/html": [
       "<div>\n",
       "<style scoped>\n",
       "    .dataframe tbody tr th:only-of-type {\n",
       "        vertical-align: middle;\n",
       "    }\n",
       "\n",
       "    .dataframe tbody tr th {\n",
       "        vertical-align: top;\n",
       "    }\n",
       "\n",
       "    .dataframe thead th {\n",
       "        text-align: right;\n",
       "    }\n",
       "</style>\n",
       "<table border=\"1\" class=\"dataframe\">\n",
       "  <thead>\n",
       "    <tr style=\"text-align: right;\">\n",
       "      <th></th>\n",
       "      <th>0</th>\n",
       "      <th>1</th>\n",
       "    </tr>\n",
       "  </thead>\n",
       "  <tbody>\n",
       "    <tr>\n",
       "      <th>pdb_id</th>\n",
       "      <td>3zdw</td>\n",
       "      <td>2oty</td>\n",
       "    </tr>\n",
       "    <tr>\n",
       "      <th>lig_id</th>\n",
       "      <td>EBS</td>\n",
       "      <td>YAN</td>\n",
       "    </tr>\n",
       "    <tr>\n",
       "      <th>seq</th>\n",
       "      <td>TLEKFVDALPIPDTLKPVQQSKEKTYYEVTMEECTHQLHRDLPPTR...</td>\n",
       "      <td>MNIFEMLRIDEGLRLKIYKDTEGYYTIGIGHLLTKSPSLNAAKSEL...</td>\n",
       "    </tr>\n",
       "    <tr>\n",
       "      <th>smiles</th>\n",
       "      <td>CCn1c(=NN=c2sc3cc(S(=O)(=O)O)ccc3n2CC)sc2cc(S(...</td>\n",
       "      <td>Clc1ccccc1Cl</td>\n",
       "    </tr>\n",
       "    <tr>\n",
       "      <th>receptor_features</th>\n",
       "      <td>{'rigidgroups_gt_frames': [[[[ 0.5147005  -0.8...</td>\n",
       "      <td>{'rigidgroups_gt_frames': [[[[-0.39526296  0.9...</td>\n",
       "    </tr>\n",
       "    <tr>\n",
       "      <th>ligand_xyz</th>\n",
       "      <td>[(23.444, 23.223, 15.358), (24.206, 24.037, 16...</td>\n",
       "      <td>[(-23.269, 26.152, -6.282), (-22.892, 25.532, ...</td>\n",
       "    </tr>\n",
       "    <tr>\n",
       "      <th>ligand_xyz_2d</th>\n",
       "      <td>[(-2.662815908287944, -3.6635448279460823, 0.0...</td>\n",
       "      <td>[(1.9485571585149866, -1.5000000000000002, 0.0...</td>\n",
       "    </tr>\n",
       "    <tr>\n",
       "      <th>ligand_bonds</th>\n",
       "      <td>[(13, 31), (31, 15), (15, 30), (30, 16), (16, ...</td>\n",
       "      <td>[(0, 1), (1, 3), (3, 4), (4, 5), (5, 6), (5, 7...</td>\n",
       "    </tr>\n",
       "  </tbody>\n",
       "</table>\n",
       "</div>"
      ],
      "text/plain": [
       "                                                                   0  \\\n",
       "pdb_id                                                          3zdw   \n",
       "lig_id                                                           EBS   \n",
       "seq                TLEKFVDALPIPDTLKPVQQSKEKTYYEVTMEECTHQLHRDLPPTR...   \n",
       "smiles             CCn1c(=NN=c2sc3cc(S(=O)(=O)O)ccc3n2CC)sc2cc(S(...   \n",
       "receptor_features  {'rigidgroups_gt_frames': [[[[ 0.5147005  -0.8...   \n",
       "ligand_xyz         [(23.444, 23.223, 15.358), (24.206, 24.037, 16...   \n",
       "ligand_xyz_2d      [(-2.662815908287944, -3.6635448279460823, 0.0...   \n",
       "ligand_bonds       [(13, 31), (31, 15), (15, 30), (30, 16), (16, ...   \n",
       "\n",
       "                                                                   1  \n",
       "pdb_id                                                          2oty  \n",
       "lig_id                                                           YAN  \n",
       "seq                MNIFEMLRIDEGLRLKIYKDTEGYYTIGIGHLLTKSPSLNAAKSEL...  \n",
       "smiles                                                  Clc1ccccc1Cl  \n",
       "receptor_features  {'rigidgroups_gt_frames': [[[[-0.39526296  0.9...  \n",
       "ligand_xyz         [(-23.269, 26.152, -6.282), (-22.892, 25.532, ...  \n",
       "ligand_xyz_2d      [(1.9485571585149866, -1.5000000000000002, 0.0...  \n",
       "ligand_bonds       [(0, 1), (1, 3), (3, 4), (4, 5), (5, 6), (5, 7...  "
      ]
     },
     "execution_count": 253,
     "metadata": {},
     "output_type": "execute_result"
    }
   ],
   "source": [
    "df = pd.concat([train, test], axis=0)\n",
    "print(df.shape)\n",
    "df.head(2).T"
   ]
  },
  {
   "cell_type": "code",
   "execution_count": 254,
   "id": "de8ab1ba-7dd0-4db0-a49a-7f39c5d5aea0",
   "metadata": {},
   "outputs": [
    {
     "data": {
      "image/png": "[encoded data removed]",
      "text/plain": [
       "<Figure size 500x300 with 1 Axes>"
      ]
     },
     "metadata": {},
     "output_type": "display_data"
    }
   ],
   "source": [
    "df1 = df['pdb_id'].value_counts()\n",
    "df1 = df1.sort_values(ascending=False)\n",
    "\n",
    "plt.figure(figsize=(5,3))\n",
    "plt.title('Number of ligands per protein')\n",
    "plt.hist(df1)\n",
    "plt.show()"
   ]
  },
  {
   "cell_type": "code",
   "execution_count": 260,
   "id": "2a18dbb6-c295-47a7-a8b9-94a2ce2ffc43",
   "metadata": {},
   "outputs": [
    {
     "data": {
      "text/plain": [
       "{'pdb_id': 0    3zdw\n",
       " Name: pdb_id, dtype: object,\n",
       " 'lig_id': 0    EBS\n",
       " Name: lig_id, dtype: object,\n",
       " 'seq': 0    TLEKFVDALPIPDTLKPVQQSKEKTYYEVTMEECTHQLHRDLPPTR...\n",
       " Name: seq, dtype: object,\n",
       " 'smiles': 0    CCn1c(=NN=c2sc3cc(S(=O)(=O)O)ccc3n2CC)sc2cc(S(...\n",
       " Name: smiles, dtype: object,\n",
       " 'receptor_features': 0    {'rigidgroups_gt_frames': [[[[ 0.5147005  -0.8...\n",
       " Name: receptor_features, dtype: object,\n",
       " 'ligand_xyz': 0    [(23.444, 23.223, 15.358), (24.206, 24.037, 16...\n",
       " Name: ligand_xyz, dtype: object,\n",
       " 'ligand_xyz_2d': 0    [(-2.662815908287944, -3.6635448279460823, 0.0...\n",
       " Name: ligand_xyz_2d, dtype: object,\n",
       " 'ligand_bonds': 0    [(13, 31), (31, 15), (15, 30), (30, 16), (16, ...\n",
       " Name: ligand_bonds, dtype: object}"
      ]
     },
     "execution_count": 260,
     "metadata": {},
     "output_type": "execute_result"
    }
   ],
   "source": [
    "example = dict(df[df['pdb_id']=='3zdw'])\n",
    "example"
   ]
  },
  {
   "cell_type": "code",
   "execution_count": 261,
   "id": "f4443135-ffd6-4ce4-b2c2-2eefd4bd00b9",
   "metadata": {},
   "outputs": [
    {
     "data": {
      "text/plain": [
       "0    TLEKFVDALPIPDTLKPVQQSKEKTYYEVTMEECTHQLHRDLPPTR...\n",
       "Name: seq, dtype: object"
      ]
     },
     "execution_count": 261,
     "metadata": {},
     "output_type": "execute_result"
    }
   ],
   "source": [
    "example['seq']"
   ]
  },
  {
   "cell_type": "code",
   "execution_count": 266,
   "id": "5415566c-c56a-449e-b5c2-4103f2a7473b",
   "metadata": {},
   "outputs": [
    {
     "data": {
      "text/plain": [
       "0       MGIVEEAHNVKVLGTGSRFIVLAHGFGTDQSVWKHLVPHLLEEFRV...\n",
       "1       SNPPPPETSNPNKPKRQTNQLQYLLRVVLKTLWKHQFAWPFQQPVD...\n",
       "2       GHMIKICIAGKNNIAVNSLQFILKNYFEADQIVVIPNKNDKGIDSW...\n",
       "3       GHMIKICIAGKNNIAVNSLQFILKNYFEADQIVVIPNKNDKGIDSW...\n",
       "4       MLGKVALEEAFALPRHKERTRWWAGLFAIDPDKHAAEINDITEQRI...\n",
       "                              ...                        \n",
       "3641    AEKLFTPLKVGAVTAPNRVFMAPLTRLRSIEPGDIPTPLMGEYYRQ...\n",
       "3642    HRALDVATELAKTFRVTVRERERAGGTPKAERDAIRRSGLLTLLIS...\n",
       "3643    MVEPQHNVMQMGGDFANNPNAQQFIDKMVNKHGFDRQQLQEILSQA...\n",
       "3644    DAWEIPRESLRLEVKLGQGCFGECWMGTWNGTTRVAIKTLKPGTMS...\n",
       "3645    HHAADYVLYKDATKPVEDRVADLLGRMTLAEKIGQMTQIERLVATP...\n",
       "Name: seq, Length: 3646, dtype: object"
      ]
     },
     "execution_count": 266,
     "metadata": {},
     "output_type": "execute_result"
    }
   ],
   "source": [
    "test0['seq']"
   ]
  }
 ],
 "metadata": {
  "kernelspec": {
   "display_name": "Python 3 (ipykernel)",
   "language": "python",
   "name": "python3"
  },
  "language_info": {
   "codemirror_mode": {
    "name": "ipython",
    "version": 3
   },
   "file_extension": ".py",
   "mimetype": "text/x-python",
   "name": "python",
   "nbconvert_exporter": "python",
   "pygments_lexer": "ipython3",
   "version": "3.10.17"
  }
 },
 "nbformat": 4,
 "nbformat_minor": 5
}
